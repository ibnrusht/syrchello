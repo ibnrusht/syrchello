{
 "cells": [
  {
   "cell_type": "code",
   "execution_count": 41,
   "id": "a9263bfe",
   "metadata": {},
   "outputs": [
    {
     "data": {
      "text/plain": [
       "id                     127219\n",
       "type                   127219\n",
       "date                   127219\n",
       "date_unixtime          127219\n",
       "actor                     279\n",
       "actor_id                  291\n",
       "action                    291\n",
       "title                      22\n",
       "text                   127219\n",
       "photo                    2037\n",
       "width                    5055\n",
       "height                   5055\n",
       "from                   126841\n",
       "from_id                126928\n",
       "forwarded_from            707\n",
       "saved_from                118\n",
       "reply_to_message_id     77729\n",
       "edited                   5790\n",
       "edited_unixtime          5790\n",
       "file                     3154\n",
       "thumbnail                2900\n",
       "media_type               3083\n",
       "sticker_emoji            2544\n",
       "mime_type                 582\n",
       "duration_seconds          538\n",
       "poll                        7\n",
       "members                   271\n",
       "via_bot                   179\n",
       "message_id                 17\n",
       "performer                  21\n",
       "dtype: int64"
      ]
     },
     "execution_count": 41,
     "metadata": {},
     "output_type": "execute_result"
    }
   ],
   "source": [
    "import pandas as pd\n",
    "import json\n",
    "\n",
    "with open('result.json') as res:\n",
    "    f = res.read()\n",
    "    jf = json.loads(f)\n",
    "    df = pd.DataFrame(jf['messages'])\n",
    "\n",
    "df.count()"
   ]
  },
  {
   "cell_type": "code",
   "execution_count": 2,
   "id": "b53cfc93",
   "metadata": {},
   "outputs": [
    {
     "data": {
      "text/plain": [
       "<AxesSubplot:>"
      ]
     },
     "execution_count": 2,
     "metadata": {},
     "output_type": "execute_result"
    },
    {
     "data": {
      "image/png": "[encoded data removed]",
      "text/plain": [
       "<Figure size 432x288 with 1 Axes>"
      ]
     },
     "metadata": {
      "needs_background": "light"
     },
     "output_type": "display_data"
    }
   ],
   "source": [
    "import matplotlib.pyplot as plt\n",
    "%matplotlib inline\n",
    "\n",
    "fig, ax = plt.subplots()\n",
    "ax.set_xlim(0, 200)\n",
    "df['text'].apply(len).hist(bins=1000)"
   ]
  },
  {
   "cell_type": "code",
   "execution_count": 3,
   "id": "2c86789e",
   "metadata": {},
   "outputs": [
    {
     "name": "stdout",
     "output_type": "stream",
     "text": [
      "11341\n",
      "11203\n",
      "456534\n"
     ]
    }
   ],
   "source": [
    "syr = df.loc[(df['from'] == 'Сырок') | (df['from'] == 'Дмитрий Sleeping Shaman'), 'text']\n",
    "syrock = syr.loc[syr.apply(type) == str]\n",
    "print(len(syr))\n",
    "print(len(syrock))\n",
    "text = syrock.astype('string').str.cat(sep=' ')\n",
    "print(len(text))"
   ]
  },
  {
   "cell_type": "code",
   "execution_count": 4,
   "id": "e1193acd",
   "metadata": {},
   "outputs": [
    {
     "data": {
      "text/plain": [
       "7787377"
      ]
     },
     "execution_count": 4,
     "metadata": {},
     "output_type": "execute_result"
    }
   ],
   "source": [
    "chat = df.loc[df['text'].apply(type) == str, 'text']\n",
    "chat = df.loc[df['text'].apply(len) != 0, 'text']\n",
    "chat_text = chat.astype('string').str.cat(sep=' ')\n",
    "len(chat_text)"
   ]
  },
  {
   "cell_type": "code",
   "execution_count": 5,
   "id": "88b8935d",
   "metadata": {},
   "outputs": [
    {
     "name": "stdout",
     "output_type": "stream",
     "text": [
      "No GPU available, training on CPU; consider making n_epochs very small.\n"
     ]
    }
   ],
   "source": [
    "import torch\n",
    "\n",
    "train_on_gpu = torch.cuda.is_available()\n",
    "if(train_on_gpu):\n",
    "    print('Training on GPU!')\n",
    "else: \n",
    "    print('No GPU available, training on CPU; consider making n_epochs very small.')"
   ]
  },
  {
   "cell_type": "code",
   "execution_count": 6,
   "id": "3b741ca9",
   "metadata": {},
   "outputs": [],
   "source": [
    "import torch.nn as nn\n",
    "import matplotlib\n",
    "import numpy as np\n",
    "import nltk\n",
    "\n",
    "%matplotlib inline"
   ]
  },
  {
   "cell_type": "code",
   "execution_count": 7,
   "id": "b9dda205",
   "metadata": {},
   "outputs": [
    {
     "data": {
      "text/plain": [
       "<torch.autograd.anomaly_mode.set_detect_anomaly at 0x7fabc852a5c0>"
      ]
     },
     "execution_count": 7,
     "metadata": {},
     "output_type": "execute_result"
    }
   ],
   "source": [
    "torch.autograd.set_detect_anomaly(True)"
   ]
  },
  {
   "cell_type": "code",
   "execution_count": 8,
   "id": "916f6d08",
   "metadata": {},
   "outputs": [],
   "source": [
    "from torch.autograd import Variable\n",
    "\n",
    "class RNN(nn.Module):\n",
    "    def __init__(self, input_size, hidden_size, output_size, n_layers=1):\n",
    "        super(RNN, self).__init__()\n",
    "        self.input_size = input_size\n",
    "        self.hidden_size = hidden_size\n",
    "        self.output_size = output_size\n",
    "        self.n_layers = n_layers\n",
    "        \n",
    "        self.encoder = nn.Embedding(input_size, hidden_size)\n",
    "        self.gru = nn.GRU(hidden_size, hidden_size, n_layers)\n",
    "        self.dropout = nn.Dropout(0.1)\n",
    "        self.decoder = nn.Linear(hidden_size, output_size)\n",
    "    \n",
    "    def forward(self, input, hidden):\n",
    "        input = self.encoder(input.view(1,-1))\n",
    "        output, hidden = self.gru(input.view(1, 1, -1), hidden)\n",
    "        output = self.dropout(output)\n",
    "        output = self.decoder(output.view(1, -1))\n",
    "        return output, hidden\n",
    "    def init_hidden(self):\n",
    "        return Variable(torch.zeros(self.n_layers, 1, self.hidden_size))"
   ]
  },
  {
   "cell_type": "code",
   "execution_count": 9,
   "id": "83d9cf5f",
   "metadata": {},
   "outputs": [],
   "source": [
    "import string\n",
    "\n",
    "all_characters = 'абвгдеёжзийклмнопрстуфхцчшщэюяыьъА\\\n",
    "БВГДЕЁЖЗИЙКЛМНОПРСТУФХЦЧШЩЭЮЯЫЬЪ123456789,. !?:;+-*\\qwertyuiopasdfghjklzxcvbnm()'\n",
    "def char_tensor(string):\n",
    "    tensor = torch.zeros(len(string)).long()\n",
    "    for c in range(len(string)):\n",
    "        try:\n",
    "            tensor[c] = all_characters.index(string[c])\n",
    "        except:\n",
    "            # print(f\"trouble character: {string[c]}\")\n",
    "            pass\n",
    "    return Variable(tensor)"
   ]
  },
  {
   "cell_type": "code",
   "execution_count": 10,
   "id": "a2c3c5f3",
   "metadata": {},
   "outputs": [],
   "source": [
    "import random\n",
    "\n",
    "chunk_len = 32\n",
    "text_len = len(chat_text)\n",
    "\n",
    "def random_chunk():\n",
    "    start_index = random.randint(0, text_len - chunk_len)\n",
    "    end_index = start_index + chunk_len + 1\n",
    "    return chat_text[start_index:end_index]\n",
    "\n",
    "def random_training_set():\n",
    "    chunk = random_chunk()\n",
    "    inp = char_tensor(chunk[:-1])\n",
    "    target = char_tensor(chunk[1:])\n",
    "    return inp, target"
   ]
  },
  {
   "cell_type": "code",
   "execution_count": 11,
   "id": "583c7447",
   "metadata": {},
   "outputs": [],
   "source": [
    "def evaluate(prime_str='а', predict_len=64, temperature=0.8):\n",
    "    hidden = decoder.init_hidden()\n",
    "    prime_input = char_tensor(prime_str)\n",
    "    predicted = prime_str\n",
    "    \n",
    "    for p in range(len(prime_str) - 1):\n",
    "        _, hidden = decoder(prime_input[p], hidden)\n",
    "    inp = prime_input[-1]\n",
    "    \n",
    "    for p in range(predict_len):\n",
    "        output, hidden = decoder(inp, hidden)\n",
    "        topv, topi = output.topk(1)\n",
    "        topi = topi[0][0]\n",
    "#         # Sample from the network as a multinomial distribution\n",
    "#         output_dist = output.data.view(-1).div(temperature).exp()\n",
    "#         top_i = torch.multinomial(output_dist, 1)[0]\n",
    "    \n",
    "        # Add predicted character to string and use as next input\n",
    "        predicted_char = all_characters[topi]\n",
    "        predicted += predicted_char\n",
    "        inp = char_tensor(predicted_char)\n",
    "    return predicted"
   ]
  },
  {
   "cell_type": "code",
   "execution_count": 12,
   "id": "4d4dca01",
   "metadata": {},
   "outputs": [],
   "source": [
    "import time, math\n",
    "\n",
    "def time_since(since):\n",
    "    s = time.time() - since\n",
    "    m = math.floor(s / 60)\n",
    "    s -= m * 60\n",
    "    return '%dm %ds' % (m, s)"
   ]
  },
  {
   "cell_type": "code",
   "execution_count": 13,
   "id": "efd355ad",
   "metadata": {},
   "outputs": [],
   "source": [
    "def train(inp, target):\n",
    "    hidden = decoder.init_hidden()\n",
    "    decoder.zero_grad()\n",
    "    loss = 0\n",
    "\n",
    "    for c in range(chunk_len):\n",
    "        output, hidden = decoder(inp[c], hidden)\n",
    "        loss += criterion(output, target[c].view(-1))\n",
    "\n",
    "    loss.backward()\n",
    "    decoder_optimizer.step()\n",
    "\n",
    "    return loss.data / chunk_len"
   ]
  },
  {
   "cell_type": "code",
   "execution_count": 42,
   "id": "e9cb6284",
   "metadata": {},
   "outputs": [
    {
     "name": "stdout",
     "output_type": "stream",
     "text": [
      "[0m 36s (100 5%) 3.1439]\n",
      "ане помо помо помо посе помомо посему пото помо помого помо поромомо помомо помо помо посемо поромомо \n",
      "\n",
      "[1m 14s (200 10%) 2.9543]\n",
      "а во то во во во во во в во в во во во во во во во во во в во во во во во во во во во то во во то во  \n",
      "\n",
      "[1m 54s (300 15%) 2.7394]\n",
      "а поро поросто по прото пото сто сто поро поросто то по пото порото по поросто поросто посто пото пор \n",
      "\n",
      "[2m 31s (400 20%) 2.5912]\n",
      "а сони не не сели слени слени не соне он не сленини и сельный сони не не сле не не слени не слен и он \n",
      "\n",
      "[3m 7s (500 25%) 2.7917]\n",
      "а это изанать и стать и разамать и изанать и и стать на стать и иза изаза стать и стать и стать стама \n",
      "\n",
      "[3m 45s (600 30%) 2.7843]\n",
      "а ка кать сто ра кать сото то то так и на та ка ка то то то кать сото так и кать то то котора не то к \n",
      "\n",
      "[4m 22s (700 35%) 2.8266]\n",
      "а в слена в слеть смовно в слени в слеть в стому в смотове слена в стовы в сто в слени пото в стом в  \n",
      "\n",
      "[5m 9s (800 40%) 3.1030]\n",
      "а та на та корат в та корати на та так та так то коростат в так та то кат так так так так та корат та \n",
      "\n",
      "[5m 46s (900 45%) 2.6084]\n",
      "а в перани и в и в и перенистеравить в в играть в притерать в и в прих и в перавить в и преравить в и \n",
      "\n",
      "[6m 24s (1000 50%) 2.5641]\n",
      "а не на не спораной на споразо на на не уне не на не упрать с пораной на спорать са на на споранить н \n",
      "\n",
      "[7m 5s (1100 55%) 2.4540]\n",
      "ать и на моне наме на меня ворели из вых на сли на меня в на меня выли на меня на мони на меня вы и н \n",
      "\n",
      "[7m 44s (1200 60%) 2.9106]\n",
      "ать то ток то то то торость то то то то то то то то то то то торет то то то то то то то то то то то т \n",
      "\n",
      "[8m 22s (1300 65%) 2.3082]\n",
      "а как нак нак не не не как нак не как нак не как нак не как нак нак как нак нак как как на не как как \n",
      "\n",
      "[8m 57s (1400 70%) 2.6992]\n",
      "а в протим в поторовер и простоверови в поторот в пробельно в проделько в версти в потороверени и сто \n",
      "\n",
      "[9m 31s (1500 75%) 2.5495]\n",
      "а ааааааааааааааааааааааааааааааааааааааааааааааааааааааааааааааааааааааааааааааааааааааааааааааааааа \n",
      "\n",
      "[10m 8s (1600 80%) 2.2737]\n",
      "а то продить сам приз в игру привать и приз в пром приз в страть игро том игру потом прите не потом т \n",
      "\n",
      "[10m 46s (1700 85%) 2.4795]\n",
      "ааааааааааааааааааааааааааааааааааааааааааааааааааааааааааааааааааааааааааааааааааааааааааааааааааааа \n",
      "\n",
      "[11m 24s (1800 90%) 2.4735]\n",
      "а в то бы не то не водил в де те клени и не в за в и не в дели так те как то бы то бы не де не не не  \n",
      "\n",
      "[12m 4s (1900 95%) 3.4221]\n",
      "а потори протерить прото вот пото потерестери вото вото пото вото провити пото вот сери протовие вото \n",
      "\n",
      "[12m 43s (2000 100%) 2.5644]\n",
      "а да не он кото кото он то кото кото конто обы обольше в кото он кото он собо он который в кото кото  \n",
      "\n"
     ]
    }
   ],
   "source": [
    "n_epochs = 2000\n",
    "print_every = 100\n",
    "plot_every = 10\n",
    "hidden_size = 128\n",
    "n_layers = 1\n",
    "lr = 0.001\n",
    "\n",
    "n_characters = len(all_characters)\n",
    "\n",
    "decoder = RNN(n_characters, hidden_size, n_characters, n_layers)\n",
    "# decoder_optimizer = torch.optim.Adam(decoder.parameters(), lr=lr)\n",
    "decoder_optimizer = torch.optim.SGD(decoder.parameters(), lr=lr, momentum=0.9)\n",
    "criterion = nn.CrossEntropyLoss()\n",
    "scheduler = torch.optim.lr_scheduler.ExponentialLR(decoder_optimizer, gamma=0.95)\n",
    "\n",
    "start = time.time()\n",
    "all_losses = []\n",
    "loss_avg = 0\n",
    "\n",
    "for epoch in range(1, n_epochs + 1):\n",
    "    loss = train(*random_training_set())       \n",
    "    loss_avg += loss\n",
    "    \n",
    "    if epoch % print_every == 0:\n",
    "        print('[%s (%d %d%%) %.4f]' % (time_since(start), epoch, epoch / n_epochs * 100, loss))\n",
    "        print(evaluate('а', 100), '\\n')\n",
    "\n",
    "    if epoch % plot_every == 0:\n",
    "        all_losses.append(loss_avg / plot_every)\n",
    "        loss_avg = 0"
   ]
  },
  {
   "cell_type": "code",
   "execution_count": 43,
   "id": "adf569bb",
   "metadata": {},
   "outputs": [
    {
     "name": "stdout",
     "output_type": "stream",
     "text": [
      "м собо в кото обы в кото кото обо в кото кото кон т \n",
      "\n"
     ]
    }
   ],
   "source": [
    "print(evaluate('м', 50, 0.5), '\\n')"
   ]
  },
  {
   "cell_type": "code",
   "execution_count": 44,
   "id": "97802c27",
   "metadata": {},
   "outputs": [
    {
     "data": {
      "text/plain": [
       "[<matplotlib.lines.Line2D at 0x7fab124a49d0>]"
      ]
     },
     "execution_count": 44,
     "metadata": {},
     "output_type": "execute_result"
    },
    {
     "data": {
      "image/png": "[encoded data removed]",
      "text/plain": [
       "<Figure size 432x288 with 1 Axes>"
      ]
     },
     "metadata": {
      "needs_background": "light"
     },
     "output_type": "display_data"
    }
   ],
   "source": [
    "import matplotlib.pyplot as plt\n",
    "import matplotlib.ticker as ticker\n",
    "%matplotlib inline\n",
    "\n",
    "plt.figure()\n",
    "plt.plot(all_losses)"
   ]
  },
  {
   "cell_type": "code",
   "execution_count": 45,
   "id": "482f44e3",
   "metadata": {},
   "outputs": [],
   "source": [
    "EPOCH = 2001\n",
    "LOSS = all_losses[-1]\n",
    "PATH = \"checkpoint1_SGD.pt\"\n",
    "\n",
    "torch.save({\n",
    "            'epoch': EPOCH,\n",
    "            'model_state_dict': decoder.state_dict(),\n",
    "            'optimizer_state_dict': decoder_optimizer.state_dict(),\n",
    "            'loss': LOSS,\n",
    "            }, PATH)\n"
   ]
  },
  {
   "cell_type": "code",
   "execution_count": 49,
   "id": "5c0fac38",
   "metadata": {},
   "outputs": [
    {
     "name": "stdout",
     "output_type": "stream",
     "text": [
      "[40m 48s (4100 204%) 2.8011]\n",
      "Мать дак и так пример пририграл вот примем примем пример простак и так и примем примем примем пример и \n",
      "\n",
      "[41m 24s (4200 210%) 2.3860]\n",
      "Маними подольно в который подорому понимально но но полодо в колько но но конимают как но не подормом  \n",
      "\n",
      "[42m 3s (4300 215%) 2.2736]\n",
      "Мат а сам а не по не про был по не сворими с он не понимаю примере с да в я ключно померт вот и поним  \n",
      "\n",
      "[42m 40s (4400 220%) 2.5965]\n",
      "Ма не общенно не не не просто не не нет не просто не но не не не только не не не не не не отно из пото \n",
      "\n",
      "[43m 17s (4500 225%) 3.1572]\n",
      "Мально воздет все то не правил в то в то пределеная в то что в то то посто то предельно в прался приме \n",
      "\n",
      "[43m 51s (4600 229%) 2.2327]\n",
      "Мата подольше от не по полостерат полостерата подольно подольше по подолько он посто не подольно одно  \n",
      "\n",
      "[44m 24s (4700 235%) 1.9869]\n",
      "Мать не нет не даже не подольно не не подоложет в семертано не посто не на не на да не подоложения и т \n",
      "\n",
      "[44m 58s (4800 240%) 1.7827]\n",
      "Мать не посторовать игро вот в не подоворение играли как не все уже в не подля не которенно которенно  \n",
      "\n",
      "[45m 32s (4900 245%) 2.6945]\n",
      "Мать в полосто не присоне полости в полосто в просторов в просо всего в когда с может все всего в пост \n",
      "\n",
      "[46m 6s (5000 250%) 2.2805]\n",
      "Мать в просто в просто в тором в том почему на он не все половором игрок не в половоровались словенной \n",
      "\n",
      "[46m 40s (5100 254%) 2.3064]\n",
      "Ма не деля не на соверные видере не все не полисли не сона и не вот просто не не не поли не все не на  \n",
      "\n",
      "[47m 14s (5200 260%) 1.7756]\n",
      "Ма отам просто не он сли она все весть вас просто может в просто важет все манс которы с старили прост \n",
      "\n",
      "[47m 47s (5300 265%) 2.6378]\n",
      "Ма не почему что не почему сторокой стороков и половерсти себе сторотельно сеторова и не стально сторо \n",
      "\n",
      "[48m 21s (5400 270%) 1.9775]\n",
      "Мать на почему что на что что то не все в доловения в долевания в прочему что не в соборов на что отом \n",
      "\n",
      "[48m 56s (5500 275%) 2.4258]\n",
      "Ма не получает на селько на на серенать на серенать с соборать в совое середал с стара и не статает та \n",
      "\n",
      "[49m 29s (5600 280%) 2.7305]\n",
      "Матерения поторетить играть в том отворение всем поделе в всеметь в дела в вот в дела в дела в может в \n",
      "\n",
      "[50m 4s (5700 285%) 2.2834]\n",
      "Мать какая играла и не соборовал в собще посто потому что я с старить играл и прям вот потать в то что \n",
      "\n",
      "[50m 38s (5800 290%) 2.6282]\n",
      "Мать как не по подерстер не вот на сами поделать в то в не подоводить поделать в то не поторот как не  \n",
      "\n",
      "[51m 12s (5900 295%) 2.1654]\n",
      "Мата на то не поду подоров в вам поделе по не меня поду не подоров не подоворю не половую на не подов  \n",
      "\n",
      "[51m 46s (6000 300%) 2.2914]\n",
      "Ма политать страть в деле просто полем вот просто просто просто выходить пробали полетере полетеле вых \n",
      "\n"
     ]
    }
   ],
   "source": [
    "decoder_optimizer = torch.optim.SGD(decoder.parameters(), lr=0.0005, momentum=0.9)\n",
    "for epoch in range(EPOCH, EPOCH + 2000 + 1):\n",
    "    loss = train(*random_training_set())       \n",
    "    loss_avg += loss\n",
    "    EPOCH += 1\n",
    "\n",
    "    if epoch % print_every == 0:\n",
    "        print('[%s (%d %d%%) %.4f]' % (time_since(start), epoch, epoch / n_epochs * 100, loss))\n",
    "        print(evaluate('Ма', 100), '\\n')\n",
    "\n",
    "    if epoch % plot_every == 0:\n",
    "        all_losses.append(loss_avg / plot_every)\n",
    "        loss_avg = 0"
   ]
  },
  {
   "cell_type": "code",
   "execution_count": 50,
   "id": "be68ae3d",
   "metadata": {},
   "outputs": [
    {
     "data": {
      "text/plain": [
       "[<matplotlib.lines.Line2D at 0x7fab12765de0>]"
      ]
     },
     "execution_count": 50,
     "metadata": {},
     "output_type": "execute_result"
    },
    {
     "data": {
      "image/png": "[encoded data removed]",
      "text/plain": [
       "<Figure size 432x288 with 1 Axes>"
      ]
     },
     "metadata": {
      "needs_background": "light"
     },
     "output_type": "display_data"
    }
   ],
   "source": [
    "plt.figure()\n",
    "plt.plot(all_losses)"
   ]
  },
  {
   "cell_type": "code",
   "execution_count": 51,
   "id": "0c7e2f3c",
   "metadata": {},
   "outputs": [
    {
     "name": "stdout",
     "output_type": "stream",
     "text": [
      "может просто на просто проболем полему просто полед \n",
      "\n"
     ]
    }
   ],
   "source": [
    "print(evaluate('м', 50, 0.6), '\\n')"
   ]
  },
  {
   "cell_type": "code",
   "execution_count": 52,
   "id": "4a693904",
   "metadata": {},
   "outputs": [],
   "source": [
    "LOSS = all_losses[-1]\n",
    "PATH = \"checkpoint2.pt\"\n",
    "\n",
    "torch.save({\n",
    "            'epoch': EPOCH,\n",
    "            'model_state_dict': decoder.state_dict(),\n",
    "            'optimizer_state_dict': decoder_optimizer.state_dict(),\n",
    "            'loss': LOSS,\n",
    "            }, PATH)\n"
   ]
  },
  {
   "cell_type": "code",
   "execution_count": null,
   "id": "80283f38",
   "metadata": {},
   "outputs": [],
   "source": []
  }
 ],
 "metadata": {
  "kernelspec": {
   "display_name": "Python 3 (ipykernel)",
   "language": "python",
   "name": "python3"
  },
  "language_info": {
   "codemirror_mode": {
    "name": "ipython",
    "version": 3
   },
   "file_extension": ".py",
   "mimetype": "text/x-python",
   "name": "python",
   "nbconvert_exporter": "python",
   "pygments_lexer": "ipython3",
   "version": "3.10.4"
  }
 },
 "nbformat": 4,
 "nbformat_minor": 5
}
